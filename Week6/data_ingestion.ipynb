{
 "cells": [
  {
   "cell_type": "markdown",
   "id": "4df55bec",
   "metadata": {},
   "source": [
    "Importing the libraries and the config file"
   ]
  },
  {
   "cell_type": "code",
   "execution_count": null,
   "id": "88ed3aa2",
   "metadata": {},
   "outputs": [],
   "source": [
    "import testutility as util\n",
    "import time\n",
    "import dask.dataframe as dd\n",
    "import sys\n",
    "import os"
   ]
  },
  {
   "cell_type": "code",
   "execution_count": null,
   "id": "f87157a0",
   "metadata": {},
   "outputs": [],
   "source": [
    "config_data = util.read_config_file(\"config.yaml\")\n",
    "file_type = config_data['file_type']\n",
    "filename = \"./\" + config_data['file_name'] + f'.{file_type}'\n",
    "file_size = str(os.stat(\"./\" + config_data['file_name'] + f'.{file_type}').st_size)"
   ]
  },
  {
   "cell_type": "markdown",
   "id": "111ffea6",
   "metadata": {},
   "source": [
    "Reading the csv file using dask"
   ]
  },
  {
   "cell_type": "code",
   "execution_count": null,
   "id": "e18700db",
   "metadata": {},
   "outputs": [],
   "source": [
    "start = time.time()\n",
    "df = dd.read_csv(filename)\n",
    "end = time.time()\n",
    "print(\"Read csv with dask: \", (end-start), \"sec\")"
   ]
  },
  {
   "cell_type": "markdown",
   "id": "79883498",
   "metadata": {},
   "source": [
    "Performing column validation"
   ]
  },
  {
   "cell_type": "code",
   "execution_count": null,
   "id": "b196d327",
   "metadata": {},
   "outputs": [],
   "source": [
    "util.col_header_val(df, config_data)\n",
    "print(\"columns of files are:{}\", df.read())\n",
    "print(\"Expected columns from YAML are:{}\", config_data['columns'])"
   ]
  },
  {
   "cell_type": "markdown",
   "id": "38aaba76",
   "metadata": {},
   "source": [
    "Carrying out an action based on the outcome of column validation"
   ]
  },
  {
   "cell_type": "code",
   "execution_count": null,
   "id": "dec2bd10",
   "metadata": {},
   "outputs": [],
   "source": [
    "if util.col_header_val(df, config_data) == 0:\n",
    "    print(\"column validation failed. please check the input and yaml files\")\n",
    "    sys.exit()\n",
    "else:\n",
    "    print(\"column validation passed\")\n",
    "    df.to_csv(config_data['file_name']+f'.{file_type}', index=False, sep=config_data['outbound_delimiter'])\n",
    "    shape = df.shape\n",
    "    summary = open('summary.txt', 'w')\n",
    "    summary.write('Total number of rows: ')\n",
    "    summary.write(shape[0])\n",
    "    summary.write('\\nTotal number of columns: ')\n",
    "    summary.write(shape[1])\n",
    "    summary.write('\\nFile size: ')\n",
    "    summary.write(file_size)\n",
    "    summary.write(' bytes')\n",
    "    summary.close()"
   ]
  }
 ],
 "metadata": {
  "kernelspec": {
   "display_name": "Python 3 (ipykernel)",
   "language": "python",
   "name": "python3"
  },
  "language_info": {
   "codemirror_mode": {
    "name": "ipython",
    "version": 3
   },
   "file_extension": ".py",
   "mimetype": "text/x-python",
   "name": "python",
   "nbconvert_exporter": "python",
   "pygments_lexer": "ipython3",
   "version": "3.10.0"
  }
 },
 "nbformat": 4,
 "nbformat_minor": 5
}
