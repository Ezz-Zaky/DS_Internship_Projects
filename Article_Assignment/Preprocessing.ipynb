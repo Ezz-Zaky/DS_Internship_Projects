{
 "cells": [
  {
   "cell_type": "markdown",
   "id": "XH8eEJC-MszQ",
   "metadata": {
    "id": "XH8eEJC-MszQ"
   },
   "source": [
    "Importing Libraries"
   ]
  },
  {
   "cell_type": "code",
   "execution_count": 1,
   "id": "7a39a536",
   "metadata": {
    "id": "7a39a536"
   },
   "outputs": [],
   "source": [
    "import numpy as np\n",
    "import pandas as pd\n",
    "import warnings\n",
    "from sklearn.preprocessing import OneHotEncoder\n",
    "from sklearn.impute import SimpleImputer"
   ]
  },
  {
   "cell_type": "code",
   "execution_count": 2,
   "id": "f6a23cf8",
   "metadata": {},
   "outputs": [],
   "source": [
    "warnings.filterwarnings('ignore')"
   ]
  },
  {
   "cell_type": "markdown",
   "id": "NMzJiE3mNpRU",
   "metadata": {
    "id": "NMzJiE3mNpRU"
   },
   "source": [
    "Importing the dataset"
   ]
  },
  {
   "cell_type": "code",
   "execution_count": 3,
   "id": "HPpLowPLeZ12",
   "metadata": {
    "id": "HPpLowPLeZ12"
   },
   "outputs": [],
   "source": [
    "dataset = pd.read_csv('Engineering_graduate_salary.csv',names=None)\n",
    "X = dataset.iloc[:, :-1]\n",
    "y = dataset.iloc[:, -1]\n"
   ]
  },
  {
   "cell_type": "markdown",
   "id": "rOUVZp7KNWTT",
   "metadata": {
    "id": "rOUVZp7KNWTT"
   },
   "source": [
    "Extracting the year out of the date of birth as the month and day create a redundancy "
   ]
  },
  {
   "cell_type": "code",
   "execution_count": 4,
   "id": "sEGQDSD6wRcX",
   "metadata": {
    "colab": {
     "base_uri": "https://localhost:8080/"
    },
    "id": "sEGQDSD6wRcX",
    "outputId": "bc8d52fe-1b34-4e5c-f63f-94c1b6b4ebc6"
   },
   "outputs": [
    {
     "data": {
      "text/plain": [
       "0       30\n",
       "1       30\n",
       "2       31\n",
       "3       29\n",
       "4       30\n",
       "        ..\n",
       "2993    31\n",
       "2994    29\n",
       "2995    32\n",
       "2996    32\n",
       "2997    28\n",
       "Name: Age, Length: 2998, dtype: int64"
      ]
     },
     "execution_count": 4,
     "metadata": {},
     "output_type": "execute_result"
    }
   ],
   "source": [
    "X['DOB']=pd.to_datetime(X['DOB'])\n",
    "X['DOB']=X['DOB'].dt.year\n",
    "X['DOB']=2020-X['DOB']\n",
    "X.rename(columns = {'DOB':'Age'},inplace=True)\n",
    "X['Age']"
   ]
  },
  {
   "cell_type": "markdown",
   "id": "sxEZG0FyNiNs",
   "metadata": {
    "id": "sxEZG0FyNiNs"
   },
   "source": [
    "Dealing with cardinality issues in the categorical features"
   ]
  },
  {
   "cell_type": "code",
   "execution_count": 5,
   "id": "NXqIuz6ajzGJ",
   "metadata": {
    "id": "NXqIuz6ajzGJ"
   },
   "outputs": [],
   "source": [
    "ten_board_freq = (X['10board'].value_counts())/X.shape[0]\n",
    "botton_decile = ten_board_freq.quantile(q=0.95)\n",
    "less_freq = ten_board_freq[ten_board_freq<=botton_decile]\n",
    "X.loc[X['10board'].isin(less_freq.index.tolist()),'10board'] = \"other\""
   ]
  },
  {
   "cell_type": "code",
   "execution_count": 6,
   "id": "TwJPWCCJR9aF",
   "metadata": {
    "colab": {
     "base_uri": "https://localhost:8080/"
    },
    "id": "TwJPWCCJR9aF",
    "outputId": "77056437-c7ef-4947-86ba-132ec60f6cc9"
   },
   "outputs": [
    {
     "data": {
      "text/plain": [
       "cbse                            1026\n",
       "state board                      881\n",
       "other                            363\n",
       "0                                256\n",
       "icse                             213\n",
       "ssc                               96\n",
       "up board                          72\n",
       "matriculation                     29\n",
       "rbse                              20\n",
       "wbbse                             14\n",
       "up                                14\n",
       "board of secondary education      14\n",
       "Name: 10board, dtype: int64"
      ]
     },
     "execution_count": 6,
     "metadata": {},
     "output_type": "execute_result"
    }
   ],
   "source": [
    "X['10board'].value_counts()"
   ]
  },
  {
   "cell_type": "code",
   "execution_count": 7,
   "id": "1Hod_AoWnaT7",
   "metadata": {
    "id": "1Hod_AoWnaT7"
   },
   "outputs": [],
   "source": [
    "twelve_board_freq = (X['12board'].value_counts())/X.shape[0]\n",
    "botton_decile = twelve_board_freq.quantile(q=0.95)\n",
    "less_freq = twelve_board_freq[twelve_board_freq<=botton_decile]\n",
    "X.loc[X['12board'].isin(less_freq.index.tolist()),'12board'] = \"other\""
   ]
  },
  {
   "cell_type": "code",
   "execution_count": 8,
   "id": "yHI3zQFCWQBQ",
   "metadata": {
    "colab": {
     "base_uri": "https://localhost:8080/"
    },
    "id": "yHI3zQFCWQBQ",
    "outputId": "74e6bebd-f0ae-419c-83f7-d52af2366168"
   },
   "outputs": [
    {
     "data": {
      "text/plain": [
       "cbse                               1039\n",
       "state board                         948\n",
       "other                               443\n",
       "0                                   264\n",
       "icse                                101\n",
       "up board                             74\n",
       "isc                                  29\n",
       "board of intermediate                27\n",
       "board of intermediate education      21\n",
       "rbse                                 16\n",
       "up                                   14\n",
       "chse                                 11\n",
       "mp board                             11\n",
       "Name: 12board, dtype: int64"
      ]
     },
     "execution_count": 8,
     "metadata": {},
     "output_type": "execute_result"
    }
   ],
   "source": [
    "X['12board'].value_counts()"
   ]
  },
  {
   "cell_type": "code",
   "execution_count": 9,
   "id": "X9ChTGS1pRtO",
   "metadata": {
    "id": "X9ChTGS1pRtO"
   },
   "outputs": [],
   "source": [
    "degree_freq = (X['Degree'].value_counts())/X.shape[0]\n",
    "botton_decile = degree_freq.quantile(q=0.5)\n",
    "less_freq = degree_freq[degree_freq<=botton_decile]\n",
    "X.loc[X['Degree'].isin(less_freq.index.tolist()),'Degree'] = \"other\""
   ]
  },
  {
   "cell_type": "code",
   "execution_count": 10,
   "id": "AYJlwF37WQb5",
   "metadata": {
    "colab": {
     "base_uri": "https://localhost:8080/"
    },
    "id": "AYJlwF37WQb5",
    "outputId": "ea9fc011-cfda-4d2e-a919-3b14e21d8faa"
   },
   "outputs": [
    {
     "data": {
      "text/plain": [
       "B.Tech/B.E.    2757\n",
       "MCA             200\n",
       "other            41\n",
       "Name: Degree, dtype: int64"
      ]
     },
     "execution_count": 10,
     "metadata": {},
     "output_type": "execute_result"
    }
   ],
   "source": [
    "X['Degree'].value_counts()"
   ]
  },
  {
   "cell_type": "code",
   "execution_count": 11,
   "id": "iSuXYPzeqCNP",
   "metadata": {
    "id": "iSuXYPzeqCNP"
   },
   "outputs": [],
   "source": [
    "Specialization_freq = (X['Specialization'].value_counts())/X.shape[0]\n",
    "botton_decile = Specialization_freq.quantile(q=0.75)\n",
    "less_freq = Specialization_freq[Specialization_freq<=botton_decile]\n",
    "X.loc[X['Specialization'].isin(less_freq.index.tolist()),'Specialization'] = \"other\""
   ]
  },
  {
   "cell_type": "code",
   "execution_count": 12,
   "id": "L-MyJ55pWQ3-",
   "metadata": {
    "colab": {
     "base_uri": "https://localhost:8080/"
    },
    "id": "L-MyJ55pWQ3-",
    "outputId": "a7eafc8b-c41e-4c83-bafd-e5c914af74e9"
   },
   "outputs": [
    {
     "data": {
      "text/plain": [
       "electronics and communication engineering    670\n",
       "computer science & engineering               557\n",
       "information technology                       506\n",
       "computer engineering                         415\n",
       "computer application                         201\n",
       "other                                        170\n",
       "mechanical engineering                       155\n",
       "electronics and electrical engineering       148\n",
       "electronics & telecommunications              89\n",
       "electrical engineering                        63\n",
       "electronics & instrumentation eng             24\n",
       "Name: Specialization, dtype: int64"
      ]
     },
     "execution_count": 12,
     "metadata": {},
     "output_type": "execute_result"
    }
   ],
   "source": [
    "X['Specialization'].value_counts()"
   ]
  },
  {
   "cell_type": "code",
   "execution_count": 13,
   "id": "WFLEnSQFq4Pb",
   "metadata": {
    "id": "WFLEnSQFq4Pb"
   },
   "outputs": [],
   "source": [
    "CollegeState_freq = (X['CollegeState'].value_counts())/X.shape[0]\n",
    "botton_decile = CollegeState_freq.quantile(q=0.45)\n",
    "less_freq = CollegeState_freq[CollegeState_freq<=botton_decile]\n",
    "X.loc[X['CollegeState'].isin(less_freq.index.tolist()),'CollegeState'] = \"other\""
   ]
  },
  {
   "cell_type": "code",
   "execution_count": 14,
   "id": "57Z-tlgLWRXd",
   "metadata": {
    "colab": {
     "base_uri": "https://localhost:8080/"
    },
    "id": "57Z-tlgLWRXd",
    "outputId": "3ef208ec-4943-42ab-9d55-d9324a3c0153"
   },
   "outputs": [
    {
     "data": {
      "text/plain": [
       "cbse                            1026\n",
       "state board                      881\n",
       "other                            363\n",
       "0                                256\n",
       "icse                             213\n",
       "ssc                               96\n",
       "up board                          72\n",
       "matriculation                     29\n",
       "rbse                              20\n",
       "wbbse                             14\n",
       "up                                14\n",
       "board of secondary education      14\n",
       "Name: 10board, dtype: int64"
      ]
     },
     "execution_count": 14,
     "metadata": {},
     "output_type": "execute_result"
    }
   ],
   "source": [
    "X['10board'].value_counts()"
   ]
  },
  {
   "cell_type": "markdown",
   "id": "Q9kEXao0RZZO",
   "metadata": {
    "id": "Q9kEXao0RZZO"
   },
   "source": [
    "Encoding categorical features"
   ]
  },
  {
   "cell_type": "code",
   "execution_count": 15,
   "id": "HIU3ZQyI2MJc",
   "metadata": {
    "id": "HIU3ZQyI2MJc"
   },
   "outputs": [],
   "source": [
    "categorical_feature_mask = X.dtypes == object\n",
    "categorical_cols = X.columns[categorical_feature_mask].tolist()\n",
    "ohe = OneHotEncoder(sparse=False)\n",
    "array_hot_encoded = ohe.fit_transform(X[categorical_cols])\n",
    "X_hot_encoded = pd.DataFrame(array_hot_encoded)\n",
    "X_hot_encoded.columns = ohe.get_feature_names(X[categorical_cols].columns)\n",
    "X_other_cols = X.drop(columns=categorical_cols)\n",
    "X = pd.concat([X_hot_encoded, X_other_cols], axis=1)"
   ]
  },
  {
   "cell_type": "markdown",
   "id": "WH3M3XWQReB8",
   "metadata": {
    "id": "WH3M3XWQReB8"
   },
   "source": [
    "Obtaining the final processed dataset for Ml model training "
   ]
  },
  {
   "cell_type": "code",
   "execution_count": 16,
   "id": "adhXbRoF7dUU",
   "metadata": {
    "id": "adhXbRoF7dUU"
   },
   "outputs": [],
   "source": [
    "data_out = pd.concat([X, y], axis=1).reset_index(drop=True)"
   ]
  },
  {
   "cell_type": "code",
   "execution_count": 17,
   "id": "_WDvQOmCg5qu",
   "metadata": {
    "colab": {
     "base_uri": "https://localhost:8080/",
     "height": 334
    },
    "id": "_WDvQOmCg5qu",
    "outputId": "28ad3a9e-1f27-4269-b59d-6df38e7688ba"
   },
   "outputs": [
    {
     "name": "stdout",
     "output_type": "stream",
     "text": [
      "<class 'pandas.core.frame.DataFrame'>\n",
      "RangeIndex: 2998 entries, 0 to 2997\n",
      "Data columns (total 81 columns):\n",
      " #   Column                                                    Non-Null Count  Dtype  \n",
      "---  ------                                                    --------------  -----  \n",
      " 0   Gender_f                                                  2998 non-null   float64\n",
      " 1   Gender_m                                                  2998 non-null   float64\n",
      " 2   10board_0                                                 2998 non-null   float64\n",
      " 3   10board_board of secondary education                      2998 non-null   float64\n",
      " 4   10board_cbse                                              2998 non-null   float64\n",
      " 5   10board_icse                                              2998 non-null   float64\n",
      " 6   10board_matriculation                                     2998 non-null   float64\n",
      " 7   10board_other                                             2998 non-null   float64\n",
      " 8   10board_rbse                                              2998 non-null   float64\n",
      " 9   10board_ssc                                               2998 non-null   float64\n",
      " 10  10board_state board                                       2998 non-null   float64\n",
      " 11  10board_up                                                2998 non-null   float64\n",
      " 12  10board_up board                                          2998 non-null   float64\n",
      " 13  10board_wbbse                                             2998 non-null   float64\n",
      " 14  12board_0                                                 2998 non-null   float64\n",
      " 15  12board_board of intermediate                             2998 non-null   float64\n",
      " 16  12board_board of intermediate education                   2998 non-null   float64\n",
      " 17  12board_cbse                                              2998 non-null   float64\n",
      " 18  12board_chse                                              2998 non-null   float64\n",
      " 19  12board_icse                                              2998 non-null   float64\n",
      " 20  12board_isc                                               2998 non-null   float64\n",
      " 21  12board_mp board                                          2998 non-null   float64\n",
      " 22  12board_other                                             2998 non-null   float64\n",
      " 23  12board_rbse                                              2998 non-null   float64\n",
      " 24  12board_state board                                       2998 non-null   float64\n",
      " 25  12board_up                                                2998 non-null   float64\n",
      " 26  12board_up board                                          2998 non-null   float64\n",
      " 27  Degree_B.Tech/B.E.                                        2998 non-null   float64\n",
      " 28  Degree_MCA                                                2998 non-null   float64\n",
      " 29  Degree_other                                              2998 non-null   float64\n",
      " 30  Specialization_computer application                       2998 non-null   float64\n",
      " 31  Specialization_computer engineering                       2998 non-null   float64\n",
      " 32  Specialization_computer science & engineering             2998 non-null   float64\n",
      " 33  Specialization_electrical engineering                     2998 non-null   float64\n",
      " 34  Specialization_electronics & instrumentation eng          2998 non-null   float64\n",
      " 35  Specialization_electronics & telecommunications           2998 non-null   float64\n",
      " 36  Specialization_electronics and communication engineering  2998 non-null   float64\n",
      " 37  Specialization_electronics and electrical engineering     2998 non-null   float64\n",
      " 38  Specialization_information technology                     2998 non-null   float64\n",
      " 39  Specialization_mechanical engineering                     2998 non-null   float64\n",
      " 40  Specialization_other                                      2998 non-null   float64\n",
      " 41  CollegeState_Andhra Pradesh                               2998 non-null   float64\n",
      " 42  CollegeState_Delhi                                        2998 non-null   float64\n",
      " 43  CollegeState_Haryana                                      2998 non-null   float64\n",
      " 44  CollegeState_Karnataka                                    2998 non-null   float64\n",
      " 45  CollegeState_Madhya Pradesh                               2998 non-null   float64\n",
      " 46  CollegeState_Maharashtra                                  2998 non-null   float64\n",
      " 47  CollegeState_Orissa                                       2998 non-null   float64\n",
      " 48  CollegeState_Punjab                                       2998 non-null   float64\n",
      " 49  CollegeState_Rajasthan                                    2998 non-null   float64\n",
      " 50  CollegeState_Tamil Nadu                                   2998 non-null   float64\n",
      " 51  CollegeState_Telangana                                    2998 non-null   float64\n",
      " 52  CollegeState_Uttar Pradesh                                2998 non-null   float64\n",
      " 53  CollegeState_Uttarakhand                                  2998 non-null   float64\n",
      " 54  CollegeState_West Bengal                                  2998 non-null   float64\n",
      " 55  CollegeState_other                                        2998 non-null   float64\n",
      " 56  Age                                                       2998 non-null   int64  \n",
      " 57  10percentage                                              2998 non-null   float64\n",
      " 58  12graduation                                              2998 non-null   int64  \n",
      " 59  12percentage                                              2998 non-null   float64\n",
      " 60  CollegeTier                                               2998 non-null   int64  \n",
      " 61  collegeGPA                                                2998 non-null   float64\n",
      " 62  CollegeCityTier                                           2998 non-null   int64  \n",
      " 63  GraduationYear                                            2998 non-null   int64  \n",
      " 64  English                                                   2998 non-null   int64  \n",
      " 65  Logical                                                   2998 non-null   int64  \n",
      " 66  Quant                                                     2998 non-null   int64  \n",
      " 67  Domain                                                    2998 non-null   float64\n",
      " 68  ComputerProgramming                                       2998 non-null   int64  \n",
      " 69  ElectronicsAndSemicon                                     2998 non-null   int64  \n",
      " 70  ComputerScience                                           2998 non-null   int64  \n",
      " 71  MechanicalEngg                                            2998 non-null   int64  \n",
      " 72  ElectricalEngg                                            2998 non-null   int64  \n",
      " 73  TelecomEngg                                               2998 non-null   int64  \n",
      " 74  CivilEngg                                                 2998 non-null   int64  \n",
      " 75  conscientiousness                                         2998 non-null   float64\n",
      " 76  agreeableness                                             2998 non-null   float64\n",
      " 77  extraversion                                              2998 non-null   float64\n",
      " 78  nueroticism                                               2998 non-null   float64\n",
      " 79  openess_to_experience                                     2998 non-null   float64\n",
      " 80  Salary                                                    2998 non-null   int64  \n",
      "dtypes: float64(65), int64(16)\n",
      "memory usage: 1.9 MB\n"
     ]
    }
   ],
   "source": [
    "data_out.info()"
   ]
  },
  {
   "cell_type": "code",
   "execution_count": 19,
   "id": "b4b81098",
   "metadata": {},
   "outputs": [],
   "source": [
    "X0 = data_out.values\n",
    "imputer = SimpleImputer(missing_values=-1, strategy='mean')\n",
    "imputer.fit(X0[:, 67:75])\n",
    "X0[:, 67:75]=imputer.transform(X0[:, 67:75])\n",
    "data_out = pd.DataFrame(X0, columns=list(data_out.columns))"
   ]
  },
  {
   "cell_type": "code",
   "execution_count": 20,
   "id": "4b940697",
   "metadata": {},
   "outputs": [
    {
     "data": {
      "text/html": [
       "<div>\n",
       "<style scoped>\n",
       "    .dataframe tbody tr th:only-of-type {\n",
       "        vertical-align: middle;\n",
       "    }\n",
       "\n",
       "    .dataframe tbody tr th {\n",
       "        vertical-align: top;\n",
       "    }\n",
       "\n",
       "    .dataframe thead th {\n",
       "        text-align: right;\n",
       "    }\n",
       "</style>\n",
       "<table border=\"1\" class=\"dataframe\">\n",
       "  <thead>\n",
       "    <tr style=\"text-align: right;\">\n",
       "      <th></th>\n",
       "      <th>Gender_f</th>\n",
       "      <th>Gender_m</th>\n",
       "      <th>10board_0</th>\n",
       "      <th>10board_board of secondary education</th>\n",
       "      <th>10board_cbse</th>\n",
       "      <th>10board_icse</th>\n",
       "      <th>10board_matriculation</th>\n",
       "      <th>10board_other</th>\n",
       "      <th>10board_rbse</th>\n",
       "      <th>10board_ssc</th>\n",
       "      <th>...</th>\n",
       "      <th>MechanicalEngg</th>\n",
       "      <th>ElectricalEngg</th>\n",
       "      <th>TelecomEngg</th>\n",
       "      <th>CivilEngg</th>\n",
       "      <th>conscientiousness</th>\n",
       "      <th>agreeableness</th>\n",
       "      <th>extraversion</th>\n",
       "      <th>nueroticism</th>\n",
       "      <th>openess_to_experience</th>\n",
       "      <th>Salary</th>\n",
       "    </tr>\n",
       "  </thead>\n",
       "  <tbody>\n",
       "    <tr>\n",
       "      <th>0</th>\n",
       "      <td>1.0</td>\n",
       "      <td>0.0</td>\n",
       "      <td>0.0</td>\n",
       "      <td>0.0</td>\n",
       "      <td>1.0</td>\n",
       "      <td>0.0</td>\n",
       "      <td>0.0</td>\n",
       "      <td>0.0</td>\n",
       "      <td>0.0</td>\n",
       "      <td>0.0</td>\n",
       "      <td>...</td>\n",
       "      <td>402.026738</td>\n",
       "      <td>423.336066</td>\n",
       "      <td>349.879562</td>\n",
       "      <td>338.807692</td>\n",
       "      <td>-0.1590</td>\n",
       "      <td>0.3789</td>\n",
       "      <td>1.2396</td>\n",
       "      <td>0.14590</td>\n",
       "      <td>0.2889</td>\n",
       "      <td>445000.0</td>\n",
       "    </tr>\n",
       "    <tr>\n",
       "      <th>1</th>\n",
       "      <td>0.0</td>\n",
       "      <td>1.0</td>\n",
       "      <td>0.0</td>\n",
       "      <td>0.0</td>\n",
       "      <td>1.0</td>\n",
       "      <td>0.0</td>\n",
       "      <td>0.0</td>\n",
       "      <td>0.0</td>\n",
       "      <td>0.0</td>\n",
       "      <td>0.0</td>\n",
       "      <td>...</td>\n",
       "      <td>402.026738</td>\n",
       "      <td>423.336066</td>\n",
       "      <td>349.879562</td>\n",
       "      <td>338.807692</td>\n",
       "      <td>1.1336</td>\n",
       "      <td>0.0459</td>\n",
       "      <td>1.2396</td>\n",
       "      <td>0.52620</td>\n",
       "      <td>-0.2859</td>\n",
       "      <td>110000.0</td>\n",
       "    </tr>\n",
       "    <tr>\n",
       "      <th>2</th>\n",
       "      <td>0.0</td>\n",
       "      <td>1.0</td>\n",
       "      <td>0.0</td>\n",
       "      <td>0.0</td>\n",
       "      <td>0.0</td>\n",
       "      <td>0.0</td>\n",
       "      <td>0.0</td>\n",
       "      <td>1.0</td>\n",
       "      <td>0.0</td>\n",
       "      <td>0.0</td>\n",
       "      <td>...</td>\n",
       "      <td>402.026738</td>\n",
       "      <td>423.336066</td>\n",
       "      <td>260.000000</td>\n",
       "      <td>338.807692</td>\n",
       "      <td>0.5100</td>\n",
       "      <td>-0.1232</td>\n",
       "      <td>1.5428</td>\n",
       "      <td>-0.29020</td>\n",
       "      <td>-0.2875</td>\n",
       "      <td>255000.0</td>\n",
       "    </tr>\n",
       "    <tr>\n",
       "      <th>3</th>\n",
       "      <td>0.0</td>\n",
       "      <td>1.0</td>\n",
       "      <td>0.0</td>\n",
       "      <td>0.0</td>\n",
       "      <td>1.0</td>\n",
       "      <td>0.0</td>\n",
       "      <td>0.0</td>\n",
       "      <td>0.0</td>\n",
       "      <td>0.0</td>\n",
       "      <td>0.0</td>\n",
       "      <td>...</td>\n",
       "      <td>402.026738</td>\n",
       "      <td>423.336066</td>\n",
       "      <td>349.879562</td>\n",
       "      <td>338.807692</td>\n",
       "      <td>-0.4463</td>\n",
       "      <td>0.2124</td>\n",
       "      <td>0.3174</td>\n",
       "      <td>0.27270</td>\n",
       "      <td>0.4805</td>\n",
       "      <td>420000.0</td>\n",
       "    </tr>\n",
       "    <tr>\n",
       "      <th>4</th>\n",
       "      <td>1.0</td>\n",
       "      <td>0.0</td>\n",
       "      <td>0.0</td>\n",
       "      <td>0.0</td>\n",
       "      <td>1.0</td>\n",
       "      <td>0.0</td>\n",
       "      <td>0.0</td>\n",
       "      <td>0.0</td>\n",
       "      <td>0.0</td>\n",
       "      <td>0.0</td>\n",
       "      <td>...</td>\n",
       "      <td>402.026738</td>\n",
       "      <td>423.336066</td>\n",
       "      <td>349.879562</td>\n",
       "      <td>338.807692</td>\n",
       "      <td>-1.4992</td>\n",
       "      <td>-0.7473</td>\n",
       "      <td>-1.0697</td>\n",
       "      <td>0.06223</td>\n",
       "      <td>0.1864</td>\n",
       "      <td>200000.0</td>\n",
       "    </tr>\n",
       "    <tr>\n",
       "      <th>...</th>\n",
       "      <td>...</td>\n",
       "      <td>...</td>\n",
       "      <td>...</td>\n",
       "      <td>...</td>\n",
       "      <td>...</td>\n",
       "      <td>...</td>\n",
       "      <td>...</td>\n",
       "      <td>...</td>\n",
       "      <td>...</td>\n",
       "      <td>...</td>\n",
       "      <td>...</td>\n",
       "      <td>...</td>\n",
       "      <td>...</td>\n",
       "      <td>...</td>\n",
       "      <td>...</td>\n",
       "      <td>...</td>\n",
       "      <td>...</td>\n",
       "      <td>...</td>\n",
       "      <td>...</td>\n",
       "      <td>...</td>\n",
       "      <td>...</td>\n",
       "    </tr>\n",
       "    <tr>\n",
       "      <th>2993</th>\n",
       "      <td>1.0</td>\n",
       "      <td>0.0</td>\n",
       "      <td>1.0</td>\n",
       "      <td>0.0</td>\n",
       "      <td>0.0</td>\n",
       "      <td>0.0</td>\n",
       "      <td>0.0</td>\n",
       "      <td>0.0</td>\n",
       "      <td>0.0</td>\n",
       "      <td>0.0</td>\n",
       "      <td>...</td>\n",
       "      <td>402.026738</td>\n",
       "      <td>423.336066</td>\n",
       "      <td>349.879562</td>\n",
       "      <td>338.807692</td>\n",
       "      <td>-1.1901</td>\n",
       "      <td>0.9688</td>\n",
       "      <td>-1.0697</td>\n",
       "      <td>1.35490</td>\n",
       "      <td>0.0284</td>\n",
       "      <td>120000.0</td>\n",
       "    </tr>\n",
       "    <tr>\n",
       "      <th>2994</th>\n",
       "      <td>1.0</td>\n",
       "      <td>0.0</td>\n",
       "      <td>0.0</td>\n",
       "      <td>0.0</td>\n",
       "      <td>0.0</td>\n",
       "      <td>0.0</td>\n",
       "      <td>0.0</td>\n",
       "      <td>0.0</td>\n",
       "      <td>0.0</td>\n",
       "      <td>0.0</td>\n",
       "      <td>...</td>\n",
       "      <td>402.026738</td>\n",
       "      <td>423.336066</td>\n",
       "      <td>349.879562</td>\n",
       "      <td>338.807692</td>\n",
       "      <td>-0.1082</td>\n",
       "      <td>0.0328</td>\n",
       "      <td>-0.4891</td>\n",
       "      <td>-0.29020</td>\n",
       "      <td>0.5024</td>\n",
       "      <td>120000.0</td>\n",
       "    </tr>\n",
       "    <tr>\n",
       "      <th>2995</th>\n",
       "      <td>0.0</td>\n",
       "      <td>1.0</td>\n",
       "      <td>0.0</td>\n",
       "      <td>0.0</td>\n",
       "      <td>0.0</td>\n",
       "      <td>0.0</td>\n",
       "      <td>0.0</td>\n",
       "      <td>1.0</td>\n",
       "      <td>0.0</td>\n",
       "      <td>0.0</td>\n",
       "      <td>...</td>\n",
       "      <td>402.026738</td>\n",
       "      <td>423.336066</td>\n",
       "      <td>349.879562</td>\n",
       "      <td>338.807692</td>\n",
       "      <td>-0.8810</td>\n",
       "      <td>0.1888</td>\n",
       "      <td>-0.3440</td>\n",
       "      <td>0.06230</td>\n",
       "      <td>0.6603</td>\n",
       "      <td>385000.0</td>\n",
       "    </tr>\n",
       "    <tr>\n",
       "      <th>2996</th>\n",
       "      <td>0.0</td>\n",
       "      <td>1.0</td>\n",
       "      <td>0.0</td>\n",
       "      <td>0.0</td>\n",
       "      <td>0.0</td>\n",
       "      <td>0.0</td>\n",
       "      <td>0.0</td>\n",
       "      <td>1.0</td>\n",
       "      <td>0.0</td>\n",
       "      <td>0.0</td>\n",
       "      <td>...</td>\n",
       "      <td>402.026738</td>\n",
       "      <td>423.336066</td>\n",
       "      <td>349.879562</td>\n",
       "      <td>338.807692</td>\n",
       "      <td>1.4374</td>\n",
       "      <td>1.2808</td>\n",
       "      <td>-0.4891</td>\n",
       "      <td>-1.46537</td>\n",
       "      <td>0.5419</td>\n",
       "      <td>530000.0</td>\n",
       "    </tr>\n",
       "    <tr>\n",
       "      <th>2997</th>\n",
       "      <td>0.0</td>\n",
       "      <td>1.0</td>\n",
       "      <td>0.0</td>\n",
       "      <td>0.0</td>\n",
       "      <td>0.0</td>\n",
       "      <td>0.0</td>\n",
       "      <td>0.0</td>\n",
       "      <td>0.0</td>\n",
       "      <td>0.0</td>\n",
       "      <td>0.0</td>\n",
       "      <td>...</td>\n",
       "      <td>402.026738</td>\n",
       "      <td>423.336066</td>\n",
       "      <td>349.879562</td>\n",
       "      <td>338.807692</td>\n",
       "      <td>-0.5899</td>\n",
       "      <td>-1.9521</td>\n",
       "      <td>0.3174</td>\n",
       "      <td>1.16010</td>\n",
       "      <td>-2.3937</td>\n",
       "      <td>200000.0</td>\n",
       "    </tr>\n",
       "  </tbody>\n",
       "</table>\n",
       "<p>2998 rows × 81 columns</p>\n",
       "</div>"
      ],
      "text/plain": [
       "      Gender_f  Gender_m  10board_0  10board_board of secondary education  \\\n",
       "0          1.0       0.0        0.0                                   0.0   \n",
       "1          0.0       1.0        0.0                                   0.0   \n",
       "2          0.0       1.0        0.0                                   0.0   \n",
       "3          0.0       1.0        0.0                                   0.0   \n",
       "4          1.0       0.0        0.0                                   0.0   \n",
       "...        ...       ...        ...                                   ...   \n",
       "2993       1.0       0.0        1.0                                   0.0   \n",
       "2994       1.0       0.0        0.0                                   0.0   \n",
       "2995       0.0       1.0        0.0                                   0.0   \n",
       "2996       0.0       1.0        0.0                                   0.0   \n",
       "2997       0.0       1.0        0.0                                   0.0   \n",
       "\n",
       "      10board_cbse  10board_icse  10board_matriculation  10board_other  \\\n",
       "0              1.0           0.0                    0.0            0.0   \n",
       "1              1.0           0.0                    0.0            0.0   \n",
       "2              0.0           0.0                    0.0            1.0   \n",
       "3              1.0           0.0                    0.0            0.0   \n",
       "4              1.0           0.0                    0.0            0.0   \n",
       "...            ...           ...                    ...            ...   \n",
       "2993           0.0           0.0                    0.0            0.0   \n",
       "2994           0.0           0.0                    0.0            0.0   \n",
       "2995           0.0           0.0                    0.0            1.0   \n",
       "2996           0.0           0.0                    0.0            1.0   \n",
       "2997           0.0           0.0                    0.0            0.0   \n",
       "\n",
       "      10board_rbse  10board_ssc  ...  MechanicalEngg  ElectricalEngg  \\\n",
       "0              0.0          0.0  ...      402.026738      423.336066   \n",
       "1              0.0          0.0  ...      402.026738      423.336066   \n",
       "2              0.0          0.0  ...      402.026738      423.336066   \n",
       "3              0.0          0.0  ...      402.026738      423.336066   \n",
       "4              0.0          0.0  ...      402.026738      423.336066   \n",
       "...            ...          ...  ...             ...             ...   \n",
       "2993           0.0          0.0  ...      402.026738      423.336066   \n",
       "2994           0.0          0.0  ...      402.026738      423.336066   \n",
       "2995           0.0          0.0  ...      402.026738      423.336066   \n",
       "2996           0.0          0.0  ...      402.026738      423.336066   \n",
       "2997           0.0          0.0  ...      402.026738      423.336066   \n",
       "\n",
       "      TelecomEngg   CivilEngg  conscientiousness  agreeableness  extraversion  \\\n",
       "0      349.879562  338.807692            -0.1590         0.3789        1.2396   \n",
       "1      349.879562  338.807692             1.1336         0.0459        1.2396   \n",
       "2      260.000000  338.807692             0.5100        -0.1232        1.5428   \n",
       "3      349.879562  338.807692            -0.4463         0.2124        0.3174   \n",
       "4      349.879562  338.807692            -1.4992        -0.7473       -1.0697   \n",
       "...           ...         ...                ...            ...           ...   \n",
       "2993   349.879562  338.807692            -1.1901         0.9688       -1.0697   \n",
       "2994   349.879562  338.807692            -0.1082         0.0328       -0.4891   \n",
       "2995   349.879562  338.807692            -0.8810         0.1888       -0.3440   \n",
       "2996   349.879562  338.807692             1.4374         1.2808       -0.4891   \n",
       "2997   349.879562  338.807692            -0.5899        -1.9521        0.3174   \n",
       "\n",
       "      nueroticism  openess_to_experience    Salary  \n",
       "0         0.14590                 0.2889  445000.0  \n",
       "1         0.52620                -0.2859  110000.0  \n",
       "2        -0.29020                -0.2875  255000.0  \n",
       "3         0.27270                 0.4805  420000.0  \n",
       "4         0.06223                 0.1864  200000.0  \n",
       "...           ...                    ...       ...  \n",
       "2993      1.35490                 0.0284  120000.0  \n",
       "2994     -0.29020                 0.5024  120000.0  \n",
       "2995      0.06230                 0.6603  385000.0  \n",
       "2996     -1.46537                 0.5419  530000.0  \n",
       "2997      1.16010                -2.3937  200000.0  \n",
       "\n",
       "[2998 rows x 81 columns]"
      ]
     },
     "execution_count": 20,
     "metadata": {},
     "output_type": "execute_result"
    }
   ],
   "source": [
    "data_out"
   ]
  },
  {
   "cell_type": "code",
   "execution_count": 21,
   "id": "zv6oH89X5GC3",
   "metadata": {
    "id": "zv6oH89X5GC3"
   },
   "outputs": [],
   "source": [
    "data_out.to_csv('Engineering_graduate_salary_processed.csv')"
   ]
  }
 ],
 "metadata": {
  "colab": {
   "name": "Preprocessing.ipynb",
   "provenance": []
  },
  "kernelspec": {
   "display_name": "Python 3 (ipykernel)",
   "language": "python",
   "name": "python3"
  },
  "language_info": {
   "codemirror_mode": {
    "name": "ipython",
    "version": 3
   },
   "file_extension": ".py",
   "mimetype": "text/x-python",
   "name": "python",
   "nbconvert_exporter": "python",
   "pygments_lexer": "ipython3",
   "version": "3.10.0"
  }
 },
 "nbformat": 4,
 "nbformat_minor": 5
}
