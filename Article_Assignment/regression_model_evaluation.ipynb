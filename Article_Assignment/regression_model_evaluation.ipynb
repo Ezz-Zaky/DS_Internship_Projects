{
 "cells": [
  {
   "cell_type": "markdown",
   "metadata": {
    "id": "LeamvpPVXuS_"
   },
   "source": [
    "# Regression Model Evaluation"
   ]
  },
  {
   "cell_type": "markdown",
   "metadata": {
    "id": "O2wvZ7SKXzVC"
   },
   "source": [
    "## Importing the libraries"
   ]
  },
  {
   "cell_type": "code",
   "execution_count": 1,
   "metadata": {
    "id": "PVmESEFZX4Ig"
   },
   "outputs": [],
   "source": [
    "import numpy as np\n",
    "import matplotlib.pyplot as plt\n",
    "import pandas as pd\n",
    "from sklearn.model_selection import train_test_split\n",
    "from sklearn.preprocessing import StandardScaler\n",
    "from sklearn.ensemble import RandomForestRegressor\n",
    "from sklearn.tree import DecisionTreeRegressor\n",
    "from sklearn.linear_model import LinearRegression\n",
    "from sklearn.preprocessing import PolynomialFeatures\n",
    "from sklearn.svm import SVR\n",
    "from sklearn.metrics import r2_score\n",
    "from sklearn.decomposition import KernelPCA"
   ]
  },
  {
   "cell_type": "markdown",
   "metadata": {
    "id": "zgbK_F8-X7em"
   },
   "source": [
    "## Importing the dataset"
   ]
  },
  {
   "cell_type": "code",
   "execution_count": 2,
   "metadata": {
    "id": "adBE4tjQX_Bh"
   },
   "outputs": [],
   "source": [
    "dataset = pd.read_csv('Engineering_graduate_salary_processed.csv')\n",
    "X = dataset.iloc[:, :-1]\n",
    "y = dataset.iloc[:, -1].values\n",
    "#X.drop(['ComputerProgramming','ElectronicsAndSemicon','ComputerScience','MechanicalEngg','ElectricalEngg','TelecomEngg','CivilEngg'], axis=1, inplace=True)"
   ]
  },
  {
   "cell_type": "code",
   "execution_count": 3,
   "metadata": {},
   "outputs": [
    {
     "data": {
      "text/html": [
       "<div>\n",
       "<style scoped>\n",
       "    .dataframe tbody tr th:only-of-type {\n",
       "        vertical-align: middle;\n",
       "    }\n",
       "\n",
       "    .dataframe tbody tr th {\n",
       "        vertical-align: top;\n",
       "    }\n",
       "\n",
       "    .dataframe thead th {\n",
       "        text-align: right;\n",
       "    }\n",
       "</style>\n",
       "<table border=\"1\" class=\"dataframe\">\n",
       "  <thead>\n",
       "    <tr style=\"text-align: right;\">\n",
       "      <th></th>\n",
       "      <th>Gender_f</th>\n",
       "      <th>Gender_m</th>\n",
       "      <th>10board_0</th>\n",
       "      <th>10board_board of secondary education</th>\n",
       "      <th>10board_cbse</th>\n",
       "      <th>10board_icse</th>\n",
       "      <th>10board_matriculation</th>\n",
       "      <th>10board_other</th>\n",
       "      <th>10board_rbse</th>\n",
       "      <th>10board_ssc</th>\n",
       "      <th>...</th>\n",
       "      <th>ComputerScience</th>\n",
       "      <th>MechanicalEngg</th>\n",
       "      <th>ElectricalEngg</th>\n",
       "      <th>TelecomEngg</th>\n",
       "      <th>CivilEngg</th>\n",
       "      <th>conscientiousness</th>\n",
       "      <th>agreeableness</th>\n",
       "      <th>extraversion</th>\n",
       "      <th>nueroticism</th>\n",
       "      <th>openess_to_experience</th>\n",
       "    </tr>\n",
       "  </thead>\n",
       "  <tbody>\n",
       "    <tr>\n",
       "      <th>0</th>\n",
       "      <td>1</td>\n",
       "      <td>0</td>\n",
       "      <td>0</td>\n",
       "      <td>0</td>\n",
       "      <td>1</td>\n",
       "      <td>0</td>\n",
       "      <td>0</td>\n",
       "      <td>0</td>\n",
       "      <td>0</td>\n",
       "      <td>0</td>\n",
       "      <td>...</td>\n",
       "      <td>406.501429</td>\n",
       "      <td>402.026738</td>\n",
       "      <td>423.336066</td>\n",
       "      <td>349.879562</td>\n",
       "      <td>338.807692</td>\n",
       "      <td>-0.1590</td>\n",
       "      <td>0.3789</td>\n",
       "      <td>1.2396</td>\n",
       "      <td>0.14590</td>\n",
       "      <td>0.2889</td>\n",
       "    </tr>\n",
       "    <tr>\n",
       "      <th>1</th>\n",
       "      <td>0</td>\n",
       "      <td>1</td>\n",
       "      <td>0</td>\n",
       "      <td>0</td>\n",
       "      <td>1</td>\n",
       "      <td>0</td>\n",
       "      <td>0</td>\n",
       "      <td>0</td>\n",
       "      <td>0</td>\n",
       "      <td>0</td>\n",
       "      <td>...</td>\n",
       "      <td>406.501429</td>\n",
       "      <td>402.026738</td>\n",
       "      <td>423.336066</td>\n",
       "      <td>349.879562</td>\n",
       "      <td>338.807692</td>\n",
       "      <td>1.1336</td>\n",
       "      <td>0.0459</td>\n",
       "      <td>1.2396</td>\n",
       "      <td>0.52620</td>\n",
       "      <td>-0.2859</td>\n",
       "    </tr>\n",
       "    <tr>\n",
       "      <th>2</th>\n",
       "      <td>0</td>\n",
       "      <td>1</td>\n",
       "      <td>0</td>\n",
       "      <td>0</td>\n",
       "      <td>0</td>\n",
       "      <td>0</td>\n",
       "      <td>0</td>\n",
       "      <td>1</td>\n",
       "      <td>0</td>\n",
       "      <td>0</td>\n",
       "      <td>...</td>\n",
       "      <td>406.501429</td>\n",
       "      <td>402.026738</td>\n",
       "      <td>423.336066</td>\n",
       "      <td>260.000000</td>\n",
       "      <td>338.807692</td>\n",
       "      <td>0.5100</td>\n",
       "      <td>-0.1232</td>\n",
       "      <td>1.5428</td>\n",
       "      <td>-0.29020</td>\n",
       "      <td>-0.2875</td>\n",
       "    </tr>\n",
       "    <tr>\n",
       "      <th>3</th>\n",
       "      <td>0</td>\n",
       "      <td>1</td>\n",
       "      <td>0</td>\n",
       "      <td>0</td>\n",
       "      <td>1</td>\n",
       "      <td>0</td>\n",
       "      <td>0</td>\n",
       "      <td>0</td>\n",
       "      <td>0</td>\n",
       "      <td>0</td>\n",
       "      <td>...</td>\n",
       "      <td>406.501429</td>\n",
       "      <td>402.026738</td>\n",
       "      <td>423.336066</td>\n",
       "      <td>349.879562</td>\n",
       "      <td>338.807692</td>\n",
       "      <td>-0.4463</td>\n",
       "      <td>0.2124</td>\n",
       "      <td>0.3174</td>\n",
       "      <td>0.27270</td>\n",
       "      <td>0.4805</td>\n",
       "    </tr>\n",
       "    <tr>\n",
       "      <th>4</th>\n",
       "      <td>1</td>\n",
       "      <td>0</td>\n",
       "      <td>0</td>\n",
       "      <td>0</td>\n",
       "      <td>1</td>\n",
       "      <td>0</td>\n",
       "      <td>0</td>\n",
       "      <td>0</td>\n",
       "      <td>0</td>\n",
       "      <td>0</td>\n",
       "      <td>...</td>\n",
       "      <td>406.501429</td>\n",
       "      <td>402.026738</td>\n",
       "      <td>423.336066</td>\n",
       "      <td>349.879562</td>\n",
       "      <td>338.807692</td>\n",
       "      <td>-1.4992</td>\n",
       "      <td>-0.7473</td>\n",
       "      <td>-1.0697</td>\n",
       "      <td>0.06223</td>\n",
       "      <td>0.1864</td>\n",
       "    </tr>\n",
       "    <tr>\n",
       "      <th>...</th>\n",
       "      <td>...</td>\n",
       "      <td>...</td>\n",
       "      <td>...</td>\n",
       "      <td>...</td>\n",
       "      <td>...</td>\n",
       "      <td>...</td>\n",
       "      <td>...</td>\n",
       "      <td>...</td>\n",
       "      <td>...</td>\n",
       "      <td>...</td>\n",
       "      <td>...</td>\n",
       "      <td>...</td>\n",
       "      <td>...</td>\n",
       "      <td>...</td>\n",
       "      <td>...</td>\n",
       "      <td>...</td>\n",
       "      <td>...</td>\n",
       "      <td>...</td>\n",
       "      <td>...</td>\n",
       "      <td>...</td>\n",
       "      <td>...</td>\n",
       "    </tr>\n",
       "    <tr>\n",
       "      <th>2993</th>\n",
       "      <td>1</td>\n",
       "      <td>0</td>\n",
       "      <td>1</td>\n",
       "      <td>0</td>\n",
       "      <td>0</td>\n",
       "      <td>0</td>\n",
       "      <td>0</td>\n",
       "      <td>0</td>\n",
       "      <td>0</td>\n",
       "      <td>0</td>\n",
       "      <td>...</td>\n",
       "      <td>406.501429</td>\n",
       "      <td>402.026738</td>\n",
       "      <td>423.336066</td>\n",
       "      <td>349.879562</td>\n",
       "      <td>338.807692</td>\n",
       "      <td>-1.1901</td>\n",
       "      <td>0.9688</td>\n",
       "      <td>-1.0697</td>\n",
       "      <td>1.35490</td>\n",
       "      <td>0.0284</td>\n",
       "    </tr>\n",
       "    <tr>\n",
       "      <th>2994</th>\n",
       "      <td>1</td>\n",
       "      <td>0</td>\n",
       "      <td>0</td>\n",
       "      <td>0</td>\n",
       "      <td>0</td>\n",
       "      <td>0</td>\n",
       "      <td>0</td>\n",
       "      <td>0</td>\n",
       "      <td>0</td>\n",
       "      <td>0</td>\n",
       "      <td>...</td>\n",
       "      <td>406.501429</td>\n",
       "      <td>402.026738</td>\n",
       "      <td>423.336066</td>\n",
       "      <td>349.879562</td>\n",
       "      <td>338.807692</td>\n",
       "      <td>-0.1082</td>\n",
       "      <td>0.0328</td>\n",
       "      <td>-0.4891</td>\n",
       "      <td>-0.29020</td>\n",
       "      <td>0.5024</td>\n",
       "    </tr>\n",
       "    <tr>\n",
       "      <th>2995</th>\n",
       "      <td>0</td>\n",
       "      <td>1</td>\n",
       "      <td>0</td>\n",
       "      <td>0</td>\n",
       "      <td>0</td>\n",
       "      <td>0</td>\n",
       "      <td>0</td>\n",
       "      <td>1</td>\n",
       "      <td>0</td>\n",
       "      <td>0</td>\n",
       "      <td>...</td>\n",
       "      <td>406.501429</td>\n",
       "      <td>402.026738</td>\n",
       "      <td>423.336066</td>\n",
       "      <td>349.879562</td>\n",
       "      <td>338.807692</td>\n",
       "      <td>-0.8810</td>\n",
       "      <td>0.1888</td>\n",
       "      <td>-0.3440</td>\n",
       "      <td>0.06230</td>\n",
       "      <td>0.6603</td>\n",
       "    </tr>\n",
       "    <tr>\n",
       "      <th>2996</th>\n",
       "      <td>0</td>\n",
       "      <td>1</td>\n",
       "      <td>0</td>\n",
       "      <td>0</td>\n",
       "      <td>0</td>\n",
       "      <td>0</td>\n",
       "      <td>0</td>\n",
       "      <td>1</td>\n",
       "      <td>0</td>\n",
       "      <td>0</td>\n",
       "      <td>...</td>\n",
       "      <td>406.501429</td>\n",
       "      <td>402.026738</td>\n",
       "      <td>423.336066</td>\n",
       "      <td>349.879562</td>\n",
       "      <td>338.807692</td>\n",
       "      <td>1.4374</td>\n",
       "      <td>1.2808</td>\n",
       "      <td>-0.4891</td>\n",
       "      <td>-1.46537</td>\n",
       "      <td>0.5419</td>\n",
       "    </tr>\n",
       "    <tr>\n",
       "      <th>2997</th>\n",
       "      <td>0</td>\n",
       "      <td>1</td>\n",
       "      <td>0</td>\n",
       "      <td>0</td>\n",
       "      <td>0</td>\n",
       "      <td>0</td>\n",
       "      <td>0</td>\n",
       "      <td>0</td>\n",
       "      <td>0</td>\n",
       "      <td>0</td>\n",
       "      <td>...</td>\n",
       "      <td>376.000000</td>\n",
       "      <td>402.026738</td>\n",
       "      <td>423.336066</td>\n",
       "      <td>349.879562</td>\n",
       "      <td>338.807692</td>\n",
       "      <td>-0.5899</td>\n",
       "      <td>-1.9521</td>\n",
       "      <td>0.3174</td>\n",
       "      <td>1.16010</td>\n",
       "      <td>-2.3937</td>\n",
       "    </tr>\n",
       "  </tbody>\n",
       "</table>\n",
       "<p>2998 rows × 80 columns</p>\n",
       "</div>"
      ],
      "text/plain": [
       "      Gender_f  Gender_m  10board_0  10board_board of secondary education  \\\n",
       "0            1         0          0                                     0   \n",
       "1            0         1          0                                     0   \n",
       "2            0         1          0                                     0   \n",
       "3            0         1          0                                     0   \n",
       "4            1         0          0                                     0   \n",
       "...        ...       ...        ...                                   ...   \n",
       "2993         1         0          1                                     0   \n",
       "2994         1         0          0                                     0   \n",
       "2995         0         1          0                                     0   \n",
       "2996         0         1          0                                     0   \n",
       "2997         0         1          0                                     0   \n",
       "\n",
       "      10board_cbse  10board_icse  10board_matriculation  10board_other  \\\n",
       "0                1             0                      0              0   \n",
       "1                1             0                      0              0   \n",
       "2                0             0                      0              1   \n",
       "3                1             0                      0              0   \n",
       "4                1             0                      0              0   \n",
       "...            ...           ...                    ...            ...   \n",
       "2993             0             0                      0              0   \n",
       "2994             0             0                      0              0   \n",
       "2995             0             0                      0              1   \n",
       "2996             0             0                      0              1   \n",
       "2997             0             0                      0              0   \n",
       "\n",
       "      10board_rbse  10board_ssc  ...  ComputerScience  MechanicalEngg  \\\n",
       "0                0            0  ...       406.501429      402.026738   \n",
       "1                0            0  ...       406.501429      402.026738   \n",
       "2                0            0  ...       406.501429      402.026738   \n",
       "3                0            0  ...       406.501429      402.026738   \n",
       "4                0            0  ...       406.501429      402.026738   \n",
       "...            ...          ...  ...              ...             ...   \n",
       "2993             0            0  ...       406.501429      402.026738   \n",
       "2994             0            0  ...       406.501429      402.026738   \n",
       "2995             0            0  ...       406.501429      402.026738   \n",
       "2996             0            0  ...       406.501429      402.026738   \n",
       "2997             0            0  ...       376.000000      402.026738   \n",
       "\n",
       "      ElectricalEngg  TelecomEngg   CivilEngg  conscientiousness  \\\n",
       "0         423.336066   349.879562  338.807692            -0.1590   \n",
       "1         423.336066   349.879562  338.807692             1.1336   \n",
       "2         423.336066   260.000000  338.807692             0.5100   \n",
       "3         423.336066   349.879562  338.807692            -0.4463   \n",
       "4         423.336066   349.879562  338.807692            -1.4992   \n",
       "...              ...          ...         ...                ...   \n",
       "2993      423.336066   349.879562  338.807692            -1.1901   \n",
       "2994      423.336066   349.879562  338.807692            -0.1082   \n",
       "2995      423.336066   349.879562  338.807692            -0.8810   \n",
       "2996      423.336066   349.879562  338.807692             1.4374   \n",
       "2997      423.336066   349.879562  338.807692            -0.5899   \n",
       "\n",
       "      agreeableness  extraversion  nueroticism  openess_to_experience  \n",
       "0            0.3789        1.2396      0.14590                 0.2889  \n",
       "1            0.0459        1.2396      0.52620                -0.2859  \n",
       "2           -0.1232        1.5428     -0.29020                -0.2875  \n",
       "3            0.2124        0.3174      0.27270                 0.4805  \n",
       "4           -0.7473       -1.0697      0.06223                 0.1864  \n",
       "...             ...           ...          ...                    ...  \n",
       "2993         0.9688       -1.0697      1.35490                 0.0284  \n",
       "2994         0.0328       -0.4891     -0.29020                 0.5024  \n",
       "2995         0.1888       -0.3440      0.06230                 0.6603  \n",
       "2996         1.2808       -0.4891     -1.46537                 0.5419  \n",
       "2997        -1.9521        0.3174      1.16010                -2.3937  \n",
       "\n",
       "[2998 rows x 80 columns]"
      ]
     },
     "execution_count": 3,
     "metadata": {},
     "output_type": "execute_result"
    }
   ],
   "source": [
    "X"
   ]
  },
  {
   "cell_type": "markdown",
   "metadata": {
    "id": "ptNjcy7bOBlD"
   },
   "source": [
    "## Splitting the dataset into the Training set and Test set"
   ]
  },
  {
   "cell_type": "code",
   "execution_count": 4,
   "metadata": {
    "id": "C7NdofoCOFQF"
   },
   "outputs": [],
   "source": [
    "X_train, X_test, y_train, y_test = train_test_split(X, y, test_size = 0.2)\n",
    "y_train = y_train.reshape(-1, 1)\n",
    "y_test = y_test.reshape(-1, 1)"
   ]
  },
  {
   "cell_type": "code",
   "execution_count": 5,
   "metadata": {
    "id": "k7XDDKUFuTD2"
   },
   "outputs": [],
   "source": [
    "scale_cols=['Age','10percentage','12graduation','12percentage','collegeGPA','GraduationYear','English','Logical','Quant','Domain','ComputerProgramming','ElectronicsAndSemicon','ComputerScience','MechanicalEngg','ElectricalEngg','TelecomEngg','CivilEngg']\n",
    "scx = StandardScaler()\n",
    "scy = StandardScaler()\n",
    "pd.DataFrame(X_train,columns = X.columns)\n",
    "pd.DataFrame(X_test,columns = X.columns)\n",
    "X_train[scale_cols] = scx.fit_transform(X_train[scale_cols])\n",
    "y_train = scy.fit_transform(y_train)\n",
    "X_test[scale_cols] = scx.transform(X_test[scale_cols])\n",
    "y_test = scy.transform(y_test)\n",
    "X_train=X_train.to_numpy()\n",
    "X_test=X_test.to_numpy()\n",
    "y_train=np.ravel(y_train)\n",
    "y_test=np.ravel(y_test)"
   ]
  },
  {
   "cell_type": "code",
   "execution_count": 6,
   "metadata": {},
   "outputs": [
    {
     "data": {
      "text/plain": [
       "array([[ 0.    ,  1.    ,  0.    , ...,  0.4711,  1.1601,  0.4805],\n",
       "       [ 0.    ,  1.    ,  0.    , ...,  0.3817,  0.1798,  0.5024],\n",
       "       [ 0.    ,  1.    ,  0.    , ...,  1.0348, -1.2303,  0.5024],\n",
       "       ...,\n",
       "       [ 0.    ,  1.    ,  0.    , ...,  0.2366, -1.2303, -0.4455],\n",
       "       [ 0.    ,  1.    ,  0.    , ..., -0.1988, -0.2902,  0.3049],\n",
       "       [ 1.    ,  0.    ,  0.    , ...,  0.4711, -1.7556, -0.6692]])"
      ]
     },
     "execution_count": 6,
     "metadata": {},
     "output_type": "execute_result"
    }
   ],
   "source": [
    "X_train"
   ]
  },
  {
   "cell_type": "code",
   "execution_count": 7,
   "metadata": {},
   "outputs": [
    {
     "data": {
      "text/plain": [
       "array([[ 0.    ,  1.    ,  0.    , ...,  0.8171, -0.4078, -0.4455],\n",
       "       [ 0.    ,  1.    ,  0.    , ...,  0.0914, -0.4078,  0.0284],\n",
       "       [ 1.    ,  0.    ,  0.    , ...,  0.672 , -0.2609, -0.1295],\n",
       "       ...,\n",
       "       [ 0.    ,  1.    ,  0.    , ..., -0.7794, -1.7004, -0.5245],\n",
       "       [ 0.    ,  1.    ,  0.    , ..., -0.4511, -0.995 , -0.0943],\n",
       "       [ 0.    ,  1.    ,  0.    , ...,  1.3933,  0.653 , -0.6692]])"
      ]
     },
     "execution_count": 7,
     "metadata": {},
     "output_type": "execute_result"
    }
   ],
   "source": [
    "X_test"
   ]
  },
  {
   "cell_type": "code",
   "execution_count": 8,
   "metadata": {},
   "outputs": [
    {
     "data": {
      "text/plain": [
       "array([-0.50158777,  0.77366306, -0.2055474 , ...,  1.13802045,\n",
       "        2.25386493,  0.11326531])"
      ]
     },
     "execution_count": 8,
     "metadata": {},
     "output_type": "execute_result"
    }
   ],
   "source": [
    "y_train"
   ]
  },
  {
   "cell_type": "code",
   "execution_count": 9,
   "metadata": {},
   "outputs": [
    {
     "data": {
      "text/plain": [
       "array([ 6.59801382e-01, -9.57034501e-01, -8.43172819e-01, -2.33687095e-02,\n",
       "       -5.69904783e-01, -9.34262165e-01, -4.78815437e-01,  5.00395027e-01,\n",
       "       -2.33687095e-02, -8.43172819e-01,  2.04354654e-01,  8.64752409e-01,\n",
       "       -5.24360110e-01,  1.13265309e-01, -2.96636746e-01, -9.34262165e-01,\n",
       "       -4.10498428e-01, -2.33687095e-02, -3.87726092e-01, -2.96636746e-01,\n",
       "        2.04354654e-01,  4.54850355e-01, -9.79806838e-01, -4.78815437e-01,\n",
       "        1.13265309e-01, -5.01587774e-01, -5.69904783e-01,  9.10297082e-01,\n",
       "        8.87524746e-01,  4.32078018e-01, -2.96636746e-01, -2.33687095e-02,\n",
       "        4.32078018e-01,  9.04929724e-02, -7.06538801e-01, -2.96636746e-01,\n",
       "       -4.33270764e-01,  5.23167364e-01,  9.04929724e-02,  1.13265309e-01,\n",
       "       -5.24360110e-01,  2.72671663e-01, -1.04812385e+00, -8.43172819e-01,\n",
       "        4.54850355e-01, -6.15449455e-01,  6.77206360e-02,  2.95444000e-01,\n",
       "        1.13265309e-01,  1.20633746e+00,  4.49482997e-02,  4.49482997e-02,\n",
       "        4.49482997e-02, -2.33687095e-02,  3.40988673e-01,  2.21759633e-02,\n",
       "       -2.33687095e-02, -5.69904783e-01, -4.78815437e-01, -1.14458055e-01,\n",
       "        3.40988673e-01,  9.04929724e-02,  1.81582318e-01,  4.53109857e+00,\n",
       "        9.04929724e-02,  2.49899327e-01, -2.96636746e-01,  7.96435400e-01,\n",
       "        4.32078018e-01,  1.58809982e-01, -2.33687095e-02,  1.57069484e+00,\n",
       "       -2.51092073e-01, -5.24360110e-01,  2.49899327e-01,  1.02415876e+00,\n",
       "        1.93505222e+00,  2.49899327e-01,  7.96435400e-01, -4.78815437e-01,\n",
       "       -6.83766465e-01, -9.79806838e-01,  9.04929724e-02,  9.04929724e-02,\n",
       "       -8.43172819e-01, -4.78815437e-01, -4.10498428e-01,  8.87524746e-01,\n",
       "       -2.33687095e-02, -7.06538801e-01,  3.86533345e-01, -4.78815437e-01,\n",
       "       -1.11644086e+00,  1.81582318e-01, -2.96636746e-01,  2.04354654e-01,\n",
       "       -1.14458055e-01, -2.96636746e-01,  5.68712036e-01, -7.97628146e-01,\n",
       "       -5.96373113e-04, -5.69904783e-01, -2.96636746e-01, -8.43172819e-01,\n",
       "       -7.97628146e-01,  2.21759633e-02,  1.81582318e-01, -5.69904783e-01,\n",
       "       -2.33687095e-02, -1.14458055e-01, -5.69904783e-01,  1.36037645e-01,\n",
       "       -2.33687095e-02,  1.11524811e+00,  1.11524811e+00,  4.77622691e-01,\n",
       "        8.19207737e-01, -9.34262165e-01, -1.14458055e-01, -4.78815437e-01,\n",
       "       -6.83766465e-01,  1.02415876e+00,  2.27126991e-01, -8.43172819e-01,\n",
       "        7.73663064e-01, -5.47132446e-01, -7.06538801e-01,  1.58809982e-01,\n",
       "       -2.33687095e-02,  9.04929724e-02,  6.77206360e-02,  1.13265309e-01,\n",
       "        2.21759633e-02, -5.96373113e-04, -4.78815437e-01,  2.21759633e-02,\n",
       "       -4.78815437e-01,  2.04354654e-01,  6.37029046e-01, -3.87726092e-01,\n",
       "       -7.29311137e-01,  2.04354654e-01, -2.96636746e-01,  1.11524811e+00,\n",
       "        2.49899327e-01,  1.25188213e+00, -2.33687095e-02, -2.51092073e-01,\n",
       "        2.27126991e-01, -4.56043101e-01,  2.04354654e-01,  2.49899327e-01,\n",
       "        9.04929724e-02, -8.43172819e-01,  1.36037645e-01,  4.77622691e-01,\n",
       "        2.04354654e-01, -4.78815437e-01,  1.36037645e-01, -7.52083474e-01,\n",
       "       -4.78815437e-01, -7.52083474e-01, -5.69904783e-01,  6.77206360e-02,\n",
       "        1.52515016e+00, -4.33270764e-01, -6.15449455e-01,  1.34297147e+00,\n",
       "        2.04354654e-01,  4.54850355e-01,  3.86533345e-01,  4.32078018e-01,\n",
       "       -4.78815437e-01,  7.73663064e-01, -8.43172819e-01, -9.34262165e-01,\n",
       "       -1.37230391e-01, -8.43172819e-01, -3.87726092e-01,  5.45939700e-01,\n",
       "       -2.33687095e-02, -5.69904783e-01, -9.34262165e-01,  5.23167364e-01,\n",
       "       -5.69904783e-01,  5.00395027e-01,  6.59801382e-01,  6.14256709e-01,\n",
       "        9.10297082e-01, -2.28319737e-01, -2.05547401e-01, -2.33687095e-02,\n",
       "       -2.96636746e-01,  9.04929724e-02,  4.54850355e-01,  5.45939700e-01,\n",
       "        4.09305682e-01, -5.96373113e-04,  4.32078018e-01, -1.02535151e+00,\n",
       "       -7.52083474e-01, -4.78815437e-01, -4.78815437e-01,  2.21759633e-02,\n",
       "       -8.88717492e-01, -8.43172819e-01, -5.69904783e-01,  2.49899327e-01,\n",
       "       -4.78815437e-01,  2.27126991e-01, -9.34262165e-01, -7.29311137e-01,\n",
       "        7.05346055e-01,  7.50890727e-01, -4.78815437e-01, -5.69904783e-01,\n",
       "        6.77206360e-02,  9.04929724e-02, -2.33687095e-02,  6.59801382e-01,\n",
       "       -2.33687095e-02, -9.57034501e-01,  9.04929724e-02,  1.13265309e-01,\n",
       "       -8.43172819e-01,  6.14256709e-01,  9.04929724e-02, -5.69904783e-01,\n",
       "        2.49899327e-01,  5.23167364e-01,  6.77206360e-02, -4.78815437e-01,\n",
       "        3.66574978e+00,  5.00395027e-01,  2.95444000e-01,  2.21759633e-02,\n",
       "       -2.51092073e-01,  6.77206360e-02, -8.43172819e-01, -9.34262165e-01,\n",
       "        4.32078018e-01, -4.78815437e-01, -9.34262165e-01, -5.96373113e-04,\n",
       "        7.50890727e-01, -2.96636746e-01,  2.04354654e-01,  9.78614091e-01,\n",
       "       -5.69904783e-01,  2.04354654e-01,  5.23167364e-01,  8.87524746e-01,\n",
       "       -4.78815437e-01,  8.64752409e-01,  1.13265309e-01,  4.49482997e-02,\n",
       "        2.49899327e-01,  6.77206360e-02,  9.04929724e-02,  9.78614091e-01,\n",
       "        1.13802045e+00, -3.64953755e-01, -9.11489828e-01,  1.36037645e-01,\n",
       "       -2.33687095e-02, -2.96636746e-01, -2.51092073e-01,  4.49482997e-02,\n",
       "       -5.69904783e-01,  4.12119651e+00,  9.04929724e-02, -5.96373113e-04,\n",
       "       -5.69904783e-01, -5.69904783e-01, -2.33687095e-02, -5.69904783e-01,\n",
       "       -1.60002728e-01,  7.50890727e-01, -8.65945156e-01,  4.09305682e-01,\n",
       "        6.59801382e-01, -5.69904783e-01, -3.42181419e-01, -7.52083474e-01,\n",
       "        1.52515016e+00,  1.93505222e+00,  8.87524746e-01, -1.37230391e-01,\n",
       "       -4.56043101e-01, -8.43172819e-01,  2.21759633e-02, -5.01587774e-01,\n",
       "       -6.15449455e-01, -3.87726092e-01, -8.20400483e-01,  2.49899327e-01,\n",
       "        6.14256709e-01, -6.15449455e-01, -2.96636746e-01,  4.49482997e-02,\n",
       "        6.59801382e-01, -9.34262165e-01,  9.04929724e-02, -5.69904783e-01,\n",
       "        2.49899327e-01, -1.37230391e-01,  5.23167364e-01, -6.83766465e-01,\n",
       "        2.04354654e-01,  5.23167364e-01,  4.32078018e-01,  2.49899327e-01,\n",
       "        2.49899327e-01,  6.77206360e-02, -6.60994128e-01,  5.68712036e-01,\n",
       "       -4.78815437e-01, -5.69904783e-01,  9.04929724e-02, -8.43172819e-01,\n",
       "       -7.97628146e-01, -9.34262165e-01,  4.32078018e-01,  5.68712036e-01,\n",
       "        4.49482997e-02, -8.43172819e-01, -4.78815437e-01, -1.02535151e+00,\n",
       "       -3.87726092e-01, -2.33687095e-02,  4.32078018e-01,  6.77206360e-02,\n",
       "       -2.33687095e-02, -6.60994128e-01, -6.89133823e-02,  2.04354654e-01,\n",
       "        1.36037645e-01, -2.33687095e-02, -2.05547401e-01,  2.84594567e+00,\n",
       "        3.16475838e+00, -2.96636746e-01, -4.10498428e-01,  4.49482997e-02,\n",
       "       -2.33687095e-02,  1.34297147e+00, -6.15449455e-01, -4.78815437e-01,\n",
       "       -8.43172819e-01, -2.33687095e-02,  4.49482997e-02,  4.09305682e-01,\n",
       "        8.87524746e-01,  9.10297082e-01,  1.22910979e+00, -8.43172819e-01,\n",
       "        6.77206360e-02,  1.34297147e+00,  6.59801382e-01, -3.87726092e-01,\n",
       "        2.49899327e-01, -2.33687095e-02, -5.69904783e-01, -7.06538801e-01,\n",
       "        1.36037645e-01,  2.21759633e-02, -1.11644086e+00,  9.04929724e-02,\n",
       "       -4.78815437e-01,  2.21759633e-02, -5.47132446e-01, -5.69904783e-01,\n",
       "       -8.43172819e-01,  1.34297147e+00,  2.49899327e-01, -5.69904783e-01,\n",
       "       -2.96636746e-01,  5.23167364e-01,  4.32078018e-01, -2.96636746e-01,\n",
       "       -7.06538801e-01, -9.11489828e-01, -1.37230391e-01,  4.54850355e-01,\n",
       "       -9.57034501e-01,  4.32078018e-01, -5.96373113e-04, -2.33687095e-02,\n",
       "        4.49482997e-02, -2.33687095e-02,  2.27126991e-01,  5.00395027e-01,\n",
       "        4.49482997e-02, -5.69904783e-01, -6.89133823e-02, -8.88717492e-01,\n",
       "       -7.06538801e-01,  9.55841755e-01, -8.88717492e-01,  1.81582318e-01,\n",
       "       -4.78815437e-01, -3.87726092e-01,  6.59801382e-01, -1.37230391e-01,\n",
       "       -2.33687095e-02, -5.69904783e-01,  9.04929724e-02, -4.78815437e-01,\n",
       "       -9.11489828e-01,  6.59801382e-01, -1.82775064e-01,  6.59801382e-01,\n",
       "        8.41980073e-01, -1.37230391e-01,  4.49482997e-02, -1.37230391e-01,\n",
       "       -2.33687095e-02,  1.13265309e-01, -2.33687095e-02,  6.77206360e-02,\n",
       "       -9.11489828e-01,  6.77206360e-02, -1.00257917e+00, -8.88717492e-01,\n",
       "       -4.78815437e-01,  2.04354654e-01, -5.69904783e-01, -9.34262165e-01,\n",
       "        2.04354654e-01, -2.33687095e-02, -2.96636746e-01,  5.23167364e-01,\n",
       "       -9.34262165e-01,  4.77622691e-01, -4.78815437e-01, -2.33687095e-02,\n",
       "        9.04929724e-02, -6.15449455e-01,  2.04354654e-01, -5.69904783e-01,\n",
       "        4.07565184e+00,  5.91484373e-01,  1.13802045e+00, -2.96636746e-01,\n",
       "        2.04354654e-01, -4.78815437e-01, -5.69904783e-01,  1.11524811e+00,\n",
       "        7.05346055e-01,  6.77206360e-02, -4.10498428e-01, -2.33687095e-02,\n",
       "        1.36037645e-01, -9.11489828e-01,  4.49482997e-02, -5.69904783e-01,\n",
       "        1.11524811e+00, -6.83766465e-01, -5.69904783e-01, -9.34262165e-01,\n",
       "       -3.19409082e-01, -9.11489828e-01,  6.14256709e-01,  5.00395027e-01,\n",
       "        8.87524746e-01, -2.33687095e-02,  1.36037645e-01,  4.32078018e-01,\n",
       "        2.49899327e-01, -4.56043101e-01,  1.36037645e-01,  6.77206360e-02,\n",
       "       -9.34262165e-01,  7.50890727e-01, -9.34262165e-01,  2.21759633e-02,\n",
       "       -4.78815437e-01,  2.04354654e-01, -3.87726092e-01, -2.33687095e-02,\n",
       "        6.59801382e-01, -2.33687095e-02, -4.78815437e-01, -4.56043101e-01,\n",
       "        9.04929724e-02, -2.96636746e-01, -9.11489828e-01, -4.78815437e-01,\n",
       "       -2.33687095e-02, -2.96636746e-01,  2.21759633e-02, -8.43172819e-01,\n",
       "        2.04354654e-01, -4.78815437e-01,  5.00395027e-01, -8.88717492e-01,\n",
       "       -5.69904783e-01,  6.77206360e-02,  2.49899327e-01,  4.32078018e-01,\n",
       "       -6.38221792e-01, -6.89133823e-02, -6.89133823e-02, -5.69904783e-01,\n",
       "        5.45939700e-01,  2.49899327e-01, -7.06538801e-01, -9.11489828e-01,\n",
       "        1.04519060e+01,  1.29742680e+00,  7.05346055e-01,  1.36037645e-01,\n",
       "        2.04354654e-01, -2.33687095e-02, -5.69904783e-01, -7.97628146e-01,\n",
       "       -2.96636746e-01, -7.29311137e-01, -5.69904783e-01,  6.77206360e-02,\n",
       "       -6.60994128e-01, -5.69904783e-01, -9.34262165e-01,  9.04929724e-02,\n",
       "       -1.82775064e-01,  1.02415876e+00, -2.51092073e-01, -8.65945156e-01,\n",
       "       -4.78815437e-01,  2.21759633e-02,  2.27126991e-01,  4.32078018e-01,\n",
       "       -7.06538801e-01, -6.15449455e-01,  4.09305682e-01, -8.65945156e-01,\n",
       "       -8.43172819e-01, -9.34262165e-01, -5.69904783e-01,  1.79841820e+00,\n",
       "       -1.14458055e-01,  2.95444000e-01, -4.78815437e-01,  9.04929724e-02,\n",
       "        1.16079278e+00,  9.04929724e-02,  4.49482997e-02,  7.73663064e-01,\n",
       "       -8.43172819e-01, -2.33687095e-02, -5.69904783e-01,  2.04354654e-01,\n",
       "       -8.43172819e-01, -4.78815437e-01, -2.51092073e-01,  6.59801382e-01,\n",
       "       -2.33687095e-02,  6.77206360e-02,  1.79841820e+00, -1.16198553e+00,\n",
       "       -9.11489828e-01,  1.06970344e+00, -5.69904783e-01,  5.23167364e-01,\n",
       "       -2.33687095e-02, -7.29311137e-01,  9.33069419e-01,  5.00395027e-01,\n",
       "        1.34297147e+00,  1.70732886e+00, -1.00257917e+00, -7.29311137e-01,\n",
       "        6.37029046e-01,  1.02415876e+00,  4.32078018e-01, -2.33687095e-02,\n",
       "        1.06970344e+00,  3.63761009e-01,  7.96435400e-01, -6.60994128e-01,\n",
       "       -5.69904783e-01,  1.36037645e-01,  3.86533345e-01, -5.69904783e-01,\n",
       "       -2.33687095e-02,  1.36574381e+00, -3.87726092e-01, -2.96636746e-01,\n",
       "        9.04929724e-02,  2.21759633e-02,  9.04929724e-02,  3.86533345e-01,\n",
       "        6.59801382e-01, -2.33687095e-02, -7.29311137e-01, -2.33687095e-02,\n",
       "       -5.01587774e-01, -1.82775064e-01, -1.37230391e-01, -7.97628146e-01])"
      ]
     },
     "execution_count": 9,
     "metadata": {},
     "output_type": "execute_result"
    }
   ],
   "source": [
    "y_test"
   ]
  },
  {
   "cell_type": "markdown",
   "metadata": {
    "id": "v4S2fyIBYDcu"
   },
   "source": [
    "## Training the models on the whole dataset"
   ]
  },
  {
   "cell_type": "code",
   "execution_count": 10,
   "metadata": {
    "colab": {
     "base_uri": "https://localhost:8080/"
    },
    "id": "o8dOCoJ1YKMc",
    "outputId": "8d1e229c-f050-42eb-b803-484b532f2af1"
   },
   "outputs": [
    {
     "data": {
      "text/plain": [
       "RandomForestRegressor()"
      ]
     },
     "execution_count": 10,
     "metadata": {},
     "output_type": "execute_result"
    }
   ],
   "source": [
    "RFregressor = RandomForestRegressor(n_estimators = 100)\n",
    "RFregressor.fit(X_train,y_train)"
   ]
  },
  {
   "cell_type": "code",
   "execution_count": 11,
   "metadata": {
    "colab": {
     "base_uri": "https://localhost:8080/"
    },
    "id": "QHTrQcAEbUyI",
    "outputId": "a74184ed-238b-4c94-93ab-fc6c2e5c8faa"
   },
   "outputs": [
    {
     "data": {
      "text/plain": [
       "DecisionTreeRegressor(min_samples_leaf=65)"
      ]
     },
     "execution_count": 11,
     "metadata": {},
     "output_type": "execute_result"
    }
   ],
   "source": [
    "DTregressor = DecisionTreeRegressor(min_samples_leaf=65)\n",
    "DTregressor.fit(X_train, y_train)"
   ]
  },
  {
   "cell_type": "code",
   "execution_count": 12,
   "metadata": {
    "colab": {
     "base_uri": "https://localhost:8080/"
    },
    "id": "eM62D1vIbVC3",
    "outputId": "472fac33-8365-4042-eb87-04ff646c947d"
   },
   "outputs": [
    {
     "data": {
      "text/plain": [
       "LinearRegression()"
      ]
     },
     "execution_count": 12,
     "metadata": {},
     "output_type": "execute_result"
    }
   ],
   "source": [
    "Lregressor = LinearRegression()\n",
    "Lregressor.fit(X_train,y_train)"
   ]
  },
  {
   "cell_type": "code",
   "execution_count": 13,
   "metadata": {
    "colab": {
     "base_uri": "https://localhost:8080/"
    },
    "id": "9xaGmFpWbVn9",
    "outputId": "df93081f-912f-4d17-83a0-5ecf8928e320"
   },
   "outputs": [
    {
     "data": {
      "text/plain": [
       "SVR()"
      ]
     },
     "execution_count": 13,
     "metadata": {},
     "output_type": "execute_result"
    }
   ],
   "source": [
    "SVRegressor = SVR()\n",
    "SVRegressor.fit(X_train, y_train)"
   ]
  },
  {
   "cell_type": "markdown",
   "metadata": {
    "id": "DM_jh0frOPKE"
   },
   "source": [
    "## Predicting the Test set results"
   ]
  },
  {
   "cell_type": "code",
   "execution_count": 14,
   "metadata": {
    "id": "JGa9ZfM4OTNw"
   },
   "outputs": [],
   "source": [
    "RF_y_pred = RFregressor.predict(X_test)"
   ]
  },
  {
   "cell_type": "code",
   "execution_count": 15,
   "metadata": {
    "id": "m8qt024rbiqW"
   },
   "outputs": [],
   "source": [
    "DT_y_pred = DTregressor.predict(X_test)"
   ]
  },
  {
   "cell_type": "code",
   "execution_count": 16,
   "metadata": {
    "id": "bd7ngTPabjND"
   },
   "outputs": [],
   "source": [
    "L_y_pred = Lregressor.predict(X_test) "
   ]
  },
  {
   "cell_type": "code",
   "execution_count": 17,
   "metadata": {
    "id": "75c_oWklbjZr"
   },
   "outputs": [],
   "source": [
    "SVR_y_pred = SVRegressor.predict(X_test) "
   ]
  },
  {
   "cell_type": "markdown",
   "metadata": {
    "id": "Cd8VZM5POWXN"
   },
   "source": [
    "## Evaluating the Model Performances"
   ]
  },
  {
   "cell_type": "code",
   "execution_count": 18,
   "metadata": {
    "colab": {
     "base_uri": "https://localhost:8080/"
    },
    "id": "a7y1rXlfOZJo",
    "outputId": "6affea40-5d56-4661-d129-02a7eaa0e386"
   },
   "outputs": [
    {
     "data": {
      "text/plain": [
       "1.5869492336704538"
      ]
     },
     "execution_count": 18,
     "metadata": {},
     "output_type": "execute_result"
    }
   ],
   "source": [
    "r2_score(y_test, RF_y_pred)*100"
   ]
  },
  {
   "cell_type": "code",
   "execution_count": 19,
   "metadata": {
    "colab": {
     "base_uri": "https://localhost:8080/"
    },
    "id": "WR2NDiy7lc8k",
    "outputId": "b7dc1ae1-4d29-40a2-9020-04c0887acce7"
   },
   "outputs": [
    {
     "data": {
      "text/plain": [
       "16.745337893437352"
      ]
     },
     "execution_count": 19,
     "metadata": {},
     "output_type": "execute_result"
    }
   ],
   "source": [
    "r2_score(y_test, DT_y_pred)*100"
   ]
  },
  {
   "cell_type": "code",
   "execution_count": 20,
   "metadata": {
    "colab": {
     "base_uri": "https://localhost:8080/"
    },
    "id": "z1zE8_LzldZP",
    "outputId": "69542639-e3b4-423d-95ed-29ca566bfc20"
   },
   "outputs": [
    {
     "data": {
      "text/plain": [
       "17.557124203038953"
      ]
     },
     "execution_count": 20,
     "metadata": {},
     "output_type": "execute_result"
    }
   ],
   "source": [
    "r2_score(y_test, L_y_pred)*100"
   ]
  },
  {
   "cell_type": "code",
   "execution_count": 21,
   "metadata": {
    "colab": {
     "base_uri": "https://localhost:8080/"
    },
    "id": "mXLR5F6tldkv",
    "outputId": "372ea197-baba-48c9-cebe-469edae8b22e"
   },
   "outputs": [
    {
     "data": {
      "text/plain": [
       "20.91677527991441"
      ]
     },
     "execution_count": 21,
     "metadata": {},
     "output_type": "execute_result"
    }
   ],
   "source": [
    "r2_score(y_test, SVR_y_pred)*100"
   ]
  }
 ],
 "metadata": {
  "colab": {
   "collapsed_sections": [],
   "name": "regression_model_evaluation.ipynb",
   "provenance": []
  },
  "kernelspec": {
   "display_name": "Python 3 (ipykernel)",
   "language": "python",
   "name": "python3"
  },
  "language_info": {
   "codemirror_mode": {
    "name": "ipython",
    "version": 3
   },
   "file_extension": ".py",
   "mimetype": "text/x-python",
   "name": "python",
   "nbconvert_exporter": "python",
   "pygments_lexer": "ipython3",
   "version": "3.10.0"
  }
 },
 "nbformat": 4,
 "nbformat_minor": 1
}
